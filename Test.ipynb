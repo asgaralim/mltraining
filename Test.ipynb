{
  "nbformat": 4,
  "nbformat_minor": 0,
  "metadata": {
    "colab": {
      "name": "Test.ipynb",
      "provenance": [],
      "mount_file_id": "1IBjOwF0Jz7Jj5V1cQY8aXmQFg47r9xAc",
      "authorship_tag": "ABX9TyN1V6S0IYP9mXwvWN9J+pY4",
      "include_colab_link": true
    },
    "kernelspec": {
      "name": "python3",
      "display_name": "Python 3"
    },
    "language_info": {
      "name": "python"
    }
  },
  "cells": [
    {
      "cell_type": "markdown",
      "metadata": {
        "id": "view-in-github",
        "colab_type": "text"
      },
      "source": [
        "<a href=\"https://colab.research.google.com/github/asgaralim/mltraining/blob/main/Test.ipynb\" target=\"_parent\"><img src=\"https://colab.research.google.com/assets/colab-badge.svg\" alt=\"Open In Colab\"/></a>"
      ]
    },
    {
      "cell_type": "code",
      "execution_count": 1,
      "metadata": {
        "colab": {
          "base_uri": "https://localhost:8080/"
        },
        "id": "WzZ4AioX6XxE",
        "outputId": "4d4dc75d-4d52-4436-8fdd-bd2880df5e8e"
      },
      "outputs": [
        {
          "output_type": "stream",
          "name": "stdout",
          "text": [
            "Welcome to World of Python\n"
          ]
        }
      ],
      "source": [
        "print('Welcome to World of Python')"
      ]
    }
  ]
}